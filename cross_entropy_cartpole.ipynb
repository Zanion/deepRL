{
 "cells": [
  {
   "cell_type": "code",
   "execution_count": 4,
   "metadata": {},
   "outputs": [],
   "source": [
    "import gym\n",
    "from collections import namedtuple\n",
    "import numpy as np\n",
    "from tensorboardX import SummaryWriter\n",
    "\n",
    "import torch\n",
    "import torch.nn as nn\n",
    "import torch.optim as optim"
   ]
  },
  {
   "cell_type": "code",
   "execution_count": 11,
   "metadata": {},
   "outputs": [],
   "source": [
    "HIDDEN_SIZE = 128\n",
    "BATCH_SIZE = 16\n",
    "PERCENTILE = 70\n",
    "\n",
    "Episode = namedtuple('Episode', field_names=['reward', 'steps'])\n",
    "Step = namedtuple('Step', field_names=['observation', 'action'])"
   ]
  },
  {
   "cell_type": "code",
   "execution_count": 8,
   "metadata": {},
   "outputs": [],
   "source": [
    "class Net(nn.Module):\n",
    "    def __init__(self, obs_size, hidden_size, n_actions):\n",
    "        super(Net, self).__init__()\n",
    "        self.net = nn.Sequential(\n",
    "            nn.Linear(obs_size, hidden_size),\n",
    "            nn.ReLU(),\n",
    "            nn.Linear(hidden_size, n_actions)\n",
    "        )\n",
    "        \n",
    "    def forward(self, x):\n",
    "        return self.net(x)"
   ]
  },
  {
   "cell_type": "code",
   "execution_count": 13,
   "metadata": {},
   "outputs": [],
   "source": [
    "def iterate_batches(env, net, batch_size):\n",
    "    \n",
    "    def init_episode(env):\n",
    "        episode_reward = 0.0\n",
    "        steps = []\n",
    "        obs = env.reset()\n",
    "        return episode_reward, steps, obs\n",
    "    \n",
    "    batch = []\n",
    "    episode_reward, steps, obs = init_episode(env)\n",
    "    sm = nn.Softmax(dim=1)\n",
    "    while True:\n",
    "        obs_v = torch.FloatTensor([obs])\n",
    "        act_probs_v = sm(net(obs_v))\n",
    "        act_probs = act_probs_v.data.numpy()[0]\n",
    "        action = np.random.choice(len(act_probs), p=act_probs)\n",
    "        next_obs, reward, is_done, _ = env.step(action)\n",
    "        episode_reward += reward\n",
    "        steps.append(Step(observation=obs, action=action))\n",
    "        if is_done:\n",
    "            batch.append(Episode(reward=episode_reward, steps=steps))\n",
    "            episode_reward, steps, next_obs = init_episode(env)\n",
    "            if len(batch) == batch_size:\n",
    "                yield batch\n",
    "                batch = []\n",
    "        obs = next_obs"
   ]
  },
  {
   "cell_type": "code",
   "execution_count": 31,
   "metadata": {},
   "outputs": [],
   "source": [
    "def filter_batch(batch, percentile):\n",
    "    rewards = [ episode.reward for episode in batch ]\n",
    "    reward_bound = np.percentile(rewards, percentile)\n",
    "    reward_mean = float(np.mean(rewards))\n",
    "    train_obs = []\n",
    "    train_act = []\n",
    "    for episode in batch:\n",
    "        if episode.reward < reward_bound:\n",
    "            continue\n",
    "        train_obs += [ step.observation for step in episode.steps ]\n",
    "        train_act += [ step.action for step in episode.steps ]\n",
    "    \n",
    "    train_obs_v = torch.FloatTensor(train_obs)\n",
    "    train_act_v = torch.LongTensor(train_act)\n",
    "    return train_obs_v, train_act_v, reward_bound, reward_mean"
   ]
  },
  {
   "cell_type": "code",
   "execution_count": 33,
   "metadata": {},
   "outputs": [
    {
     "name": "stdout",
     "output_type": "stream",
     "text": [
      "0: loss=0.677, reward_mean=19.8, reward_bound=20.0\n",
      "1: loss=0.662, reward_mean=17.8, reward_bound=17.5\n",
      "2: loss=0.680, reward_mean=22.6, reward_bound=29.0\n",
      "3: loss=0.663, reward_mean=23.8, reward_bound=19.0\n",
      "4: loss=0.663, reward_mean=33.4, reward_bound=33.0\n",
      "5: loss=0.661, reward_mean=32.1, reward_bound=34.5\n",
      "6: loss=0.642, reward_mean=32.2, reward_bound=34.0\n",
      "7: loss=0.638, reward_mean=43.2, reward_bound=54.5\n",
      "8: loss=0.625, reward_mean=44.4, reward_bound=50.0\n",
      "9: loss=0.615, reward_mean=49.0, reward_bound=51.5\n",
      "10: loss=0.618, reward_mean=53.4, reward_bound=52.5\n",
      "11: loss=0.605, reward_mean=59.9, reward_bound=66.0\n",
      "12: loss=0.582, reward_mean=63.1, reward_bound=79.0\n",
      "13: loss=0.597, reward_mean=53.0, reward_bound=53.0\n",
      "14: loss=0.578, reward_mean=64.6, reward_bound=67.5\n",
      "15: loss=0.572, reward_mean=77.8, reward_bound=87.5\n",
      "16: loss=0.571, reward_mean=85.8, reward_bound=91.5\n",
      "17: loss=0.566, reward_mean=92.8, reward_bound=120.5\n",
      "18: loss=0.567, reward_mean=105.6, reward_bound=132.0\n",
      "19: loss=0.579, reward_mean=93.4, reward_bound=100.0\n",
      "20: loss=0.544, reward_mean=92.4, reward_bound=101.0\n",
      "21: loss=0.562, reward_mean=117.8, reward_bound=146.0\n",
      "22: loss=0.547, reward_mean=124.2, reward_bound=136.5\n",
      "23: loss=0.534, reward_mean=140.1, reward_bound=157.0\n",
      "24: loss=0.551, reward_mean=130.3, reward_bound=142.0\n",
      "25: loss=0.528, reward_mean=134.0, reward_bound=148.5\n",
      "26: loss=0.526, reward_mean=141.6, reward_bound=167.5\n",
      "27: loss=0.525, reward_mean=144.7, reward_bound=170.5\n",
      "28: loss=0.540, reward_mean=146.6, reward_bound=160.0\n",
      "29: loss=0.510, reward_mean=153.9, reward_bound=180.5\n",
      "30: loss=0.511, reward_mean=145.4, reward_bound=196.0\n",
      "31: loss=0.506, reward_mean=164.7, reward_bound=200.0\n",
      "32: loss=0.500, reward_mean=160.2, reward_bound=200.0\n",
      "33: loss=0.491, reward_mean=166.4, reward_bound=200.0\n",
      "34: loss=0.500, reward_mean=166.4, reward_bound=200.0\n",
      "35: loss=0.493, reward_mean=184.1, reward_bound=200.0\n",
      "36: loss=0.487, reward_mean=147.4, reward_bound=157.5\n",
      "37: loss=0.487, reward_mean=185.4, reward_bound=200.0\n",
      "38: loss=0.486, reward_mean=186.3, reward_bound=200.0\n",
      "39: loss=0.479, reward_mean=195.7, reward_bound=200.0\n",
      "40: loss=0.476, reward_mean=180.1, reward_bound=200.0\n",
      "41: loss=0.487, reward_mean=198.9, reward_bound=200.0\n",
      "42: loss=0.476, reward_mean=189.4, reward_bound=200.0\n",
      "43: loss=0.484, reward_mean=195.3, reward_bound=200.0\n",
      "44: loss=0.491, reward_mean=195.7, reward_bound=200.0\n",
      "45: loss=0.486, reward_mean=197.2, reward_bound=200.0\n",
      "46: loss=0.478, reward_mean=200.0, reward_bound=200.0\n",
      "Solved!\n"
     ]
    },
    {
     "data": {
      "text/plain": [
       "<bound method SummaryWriter.close of <tensorboardX.writer.SummaryWriter object at 0x7fe30ea46780>>"
      ]
     },
     "execution_count": 33,
     "metadata": {},
     "output_type": "execute_result"
    }
   ],
   "source": [
    "env = gym.make(\"CartPole-v0\")\n",
    "env = gym.wrappers.Monitor(env, directory=\"mon\", force=True)\n",
    "obs_size = env.observation_space.shape[0]\n",
    "n_actions = env.action_space.n\n",
    "\n",
    "net = Net(obs_size, HIDDEN_SIZE, n_actions)\n",
    "objective = nn.CrossEntropyLoss()\n",
    "optimizer = optim.Adam(params=net.parameters(), lr=0.01)\n",
    "writer = SummaryWriter(comment=\"-cartpole\")\n",
    "\n",
    "for iter_no, batch in enumerate(iterate_batches(env, net, BATCH_SIZE)):\n",
    "    obs_v, acts_v, reward_b, reward_m = filter_batch(batch, PERCENTILE)\n",
    "    optimizer.zero_grad()\n",
    "    action_scores_v = net(obs_v)\n",
    "    loss_v = objective(action_scores_v, acts_v)\n",
    "    loss_v.backward()\n",
    "    optimizer.step()\n",
    "    print(\"%d: loss=%.3f, reward_mean=%.1f, reward_bound=%.1f\" % (iter_no, loss_v.item(), reward_m, reward_b))\n",
    "    writer.add_scalar(\"loss\", loss_v.item(), iter_no)\n",
    "    writer.add_scalar(\"reward_bound\", reward_b, iter_no)\n",
    "    writer.add_scalar(\"reward_mean\", reward_m, iter_no)\n",
    "    if reward_m > 199:\n",
    "        print(\"Solved!\")\n",
    "        break\n",
    "writer.close"
   ]
  },
  {
   "cell_type": "code",
   "execution_count": null,
   "metadata": {},
   "outputs": [],
   "source": []
  }
 ],
 "metadata": {
  "kernelspec": {
   "display_name": "Python 3",
   "language": "python",
   "name": "python3"
  },
  "language_info": {
   "codemirror_mode": {
    "name": "ipython",
    "version": 3
   },
   "file_extension": ".py",
   "mimetype": "text/x-python",
   "name": "python",
   "nbconvert_exporter": "python",
   "pygments_lexer": "ipython3",
   "version": "3.5.2"
  }
 },
 "nbformat": 4,
 "nbformat_minor": 2
}
